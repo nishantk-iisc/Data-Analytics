{
 "cells": [
  {
   "cell_type": "code",
   "execution_count": 1,
   "id": "b0043b79",
   "metadata": {},
   "outputs": [],
   "source": [
    "import sys\n",
    "from bitarray import bitarray\n",
    "\n",
    "import pandas as pd\n",
    "from scipy import stats\n",
    "\n",
    "import math\n",
    "import matplotlib.pyplot as plt\n",
    "\n",
    "import pickle\n",
    "from bitarray import bitarray\n",
    "\n",
    "import numpy as np\n"
   ]
  },
  {
   "cell_type": "code",
   "execution_count": 5,
   "id": "d83c5139",
   "metadata": {},
   "outputs": [],
   "source": [
    "data = np.loadtxt(\"../data/chrX_bwt/chrX_last_col.txt\", dtype=str)\n",
    "refn = np.loadtxt(\"../data/chrX_bwt/chrX_map.txt\", dtype=str)\n",
    "seqn = np.loadtxt(\"../data/chrX_bwt/chrX.fa\", dtype=str)\n"
   ]
  },
  {
   "cell_type": "code",
   "execution_count": 8,
   "id": "44d74277",
   "metadata": {},
   "outputs": [
    {
     "data": {
      "text/plain": [
       "array(['>chrX',\n",
       "       'CTAACCCTAACCCTAACCCTAACCCTAACCCTAACCCTCTGAAAGTGGACCTATCAGCAGGATGTGGGTGGGAGCAGATTAGAGAATAAAAGCAGACTGC',\n",
       "       'CTGAGCCAGCAGTGGCAACCCAATGGGGTCCCTTTCCATACTGTGGAAGCTTCGTTCTTTCACTCTTTGCAATAAATCTTGCTATTGCTCACTCTTTGGG',\n",
       "       ...,\n",
       "       'GGTTAGGGTTAGGGTTAGGGTTAGGGTTAGGGTTAGGGTTAGGGTTAGGGTTAGGGTTAGGGTTAGGGTTAGGGTTAGGGTTAGGGTTAGGGTTAGGGTT',\n",
       "       'AGGGGTTAGGGGTTAGGGGTTAGGGGTTAGGGGTTAGGGGTTAGGGTTAGGGTTAGGGTTAGGGTGTGGTGTGTGGGTGTGTGTGGGTGTGGTGTGTGTG',\n",
       "       'GGTGTGGTGTGTGGGTGTGGGTGTGGGTGTGGGTGTGTGGGTGTGGTGTGTGGGTGTGGT'],\n",
       "      dtype='<U100')"
      ]
     },
     "execution_count": 8,
     "metadata": {},
     "output_type": "execute_result"
    }
   ],
   "source": []
  },
  {
   "cell_type": "code",
   "execution_count": 9,
   "id": "a6b44f26",
   "metadata": {},
   "outputs": [],
   "source": [
    "# values given in readme file\n",
    "qq = 149249757       \n",
    "ww = 149249868\n",
    "ee = 149256127\n",
    "rr = 149256423\n",
    "tt = 149258412\n",
    "yy = 149258580\n",
    "uu = 149260048\n",
    "ii = 149260213\n",
    "oo = 149261768\n",
    "pp = 149262007\n",
    "aa = 149264290\n",
    "ss = 149264400\n",
    "dd = 149288166\n",
    "ff = 149288277\n",
    "gg = 149293258\n",
    "hh = 149293554\n",
    "jj = 149295542\n",
    "kk = 149295710\n",
    "ll = 149297178\n",
    "zz = 149297343\n",
    "xx = 149298898\n",
    "cc = 149299137\n",
    "vv = 149301420\n",
    "bb = 149301530"
   ]
  },
  {
   "cell_type": "code",
   "execution_count": null,
   "id": "e039c1a6",
   "metadata": {},
   "outputs": [],
   "source": [
    "def ranks_query(char, idx):                                 # code for finding rank query \n",
    "    rank = 0\n",
    "    if idx == 0:\n",
    "        return rank                           \n",
    "    #if(char == 'G'):\n",
    "    x=eval(char)\n",
    "    y=eval(char+'_c')\n",
    "    while (((idx - 1) % 100) != 0):\n",
    "        idx = idx - 1\n",
    "        if (x[idx] != 0):\n",
    "            rank = rank + 1\n",
    "    rank = rank + y[int((idx-1) / 100)]\n",
    "    return rank\n"
   ]
  }
 ],
 "metadata": {
  "kernelspec": {
   "display_name": "Python 3 (ipykernel)",
   "language": "python",
   "name": "python3"
  },
  "language_info": {
   "codemirror_mode": {
    "name": "ipython",
    "version": 3
   },
   "file_extension": ".py",
   "mimetype": "text/x-python",
   "name": "python",
   "nbconvert_exporter": "python",
   "pygments_lexer": "ipython3",
   "version": "3.9.13"
  }
 },
 "nbformat": 4,
 "nbformat_minor": 5
}
