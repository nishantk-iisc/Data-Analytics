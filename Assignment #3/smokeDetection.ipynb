{
 "cells": [
  {
   "cell_type": "code",
   "execution_count": 2,
   "id": "ce7450aa",
   "metadata": {},
   "outputs": [],
   "source": [
    "import numpy as np\n",
    "import pandas as pd\n",
    "import operator\n",
    "from scipy import stats\n",
    "import matplotlib.pyplot as plt"
   ]
  },
  {
   "cell_type": "code",
   "execution_count": 3,
   "id": "ce085fb3",
   "metadata": {},
   "outputs": [],
   "source": [
    "data = []\n",
    "with open('../data/Raw Data_GeneSpring.txt') as file:\n",
    "    # iterate over file line by line\n",
    "    for line in file:\n",
    "        # strip and split line over tab symbols\n",
    "        line = line.strip().split('\\t')\n",
    "        # convert map object into list of string values\n",
    "        line = list(map(str, line))\n",
    "        data.append(line)\n",
    "data = np.array(data, dtype=object)"
   ]
  },
  {
   "cell_type": "code",
   "execution_count": 4,
   "id": "4183222d",
   "metadata": {
    "scrolled": true
   },
   "outputs": [
    {
     "data": {
      "text/plain": [
       "array([list(['ProbeName', 'GSM1149106_M_Ns3.txt:gProcessedSignal(normalized)', 'GSM1149107_M_Ns4.txt:gProcessedSignal(normalized)', 'GSM1149108_M_Ns5.txt:gProcessedSignal(normalized)', 'GSM1149109_M_Ns6.txt:gProcessedSignal(normalized)', 'GSM1149110_M_Ns7.txt:gProcessedSignal(normalized)', 'GSM1149111_M_Ns8.txt:gProcessedSignal(normalized)', 'GSM1149112_M_Ns9.txt:gProcessedSignal(normalized)', 'GSM1149113_M_Ns10.txt:gProcessedSignal(normalized)', 'GSM1149114_M_Ns11.txt:gProcessedSignal(normalized)', 'GSM1149115_M_Ns12.txt:gProcessedSignal(normalized)', 'GSM1149116_M_Ns13.txt:gProcessedSignal(normalized)', 'GSM1149117_M_Ns14.txt:gProcessedSignal(normalized)', 'GSM1149118_M_Sm1.txt:gProcessedSignal(normalized)', 'GSM1149119_M_Sm2.txt:gProcessedSignal(normalized)', 'GSM1149120_M_Sm3.txt:gProcessedSignal(normalized)', 'GSM1149121_M_Sm4.txt:gProcessedSignal(normalized)', 'GSM1149122_M_Sm5.txt:gProcessedSignal(normalized)', 'GSM1149123_M_Sm6.txt:gProcessedSignal(normalized)', 'GSM1149124_M_Sm8.txt:gProcessedSignal(normalized)', 'GSM1149125_M_Sm9.txt:gProcessedSignal(normalized)', 'GSM1149126_M_Sm10.txt:gProcessedSignal(normalized)', 'GSM1149127_M_SM11.txt:gProcessedSignal(normalized)', 'GSM1149128_M_Sm12.txt:gProcessedSignal(normalized)', 'GSM1149129_M_Sm13.txt:gProcessedSignal(normalized)', 'GSM1149130_F_Ns1.txt:gProcessedSignal(normalized)', 'GSM1149131_F_Ns3.txt:gProcessedSignal(normalized)', 'GSM1149132_F_Ns5.txt:gProcessedSignal(normalized)', 'GSM1149133_F_Ns6.txt:gProcessedSignal(normalized)', 'GSM1149134_F_Ns7.txt:gProcessedSignal(normalized)', 'GSM1149135_F_Ns8.txt:gProcessedSignal(normalized)', 'GSM1149136_F_Ns9.txt:gProcessedSignal(normalized)', 'GSM1149137_F_Ns10.txt:gProcessedSignal(normalized)', 'GSM1149138_F_Ns11.txt:gProcessedSignal(normalized)', 'GSM1149139_F_Ns12.txt:gProcessedSignal(normalized)', 'GSM1149140_F_Ns13.txt:gProcessedSignal(normalized)', 'GSM1149141_F_Ns14.txt:gProcessedSignal(normalized)', 'GSM1149142_F_Sm1.txt:gProcessedSignal(normalized)', 'GSM1149143_F_Sm2.txt:gProcessedSignal(normalized)', 'GSM1149144_F_Sm3.txt:gProcessedSignal(normalized)', 'GSM1149145_F_Sm4.txt:gProcessedSignal(normalized)', 'GSM1149146_F_Sm5.txt:gProcessedSignal(normalized)', 'GSM1149147_F_Sm6.txt:gProcessedSignal(normalized)', 'GSM1149148_F_Sm7.txt:gProcessedSignal(normalized)', 'GSM1149149_F_Sm8.txt:gProcessedSignal(normalized)', 'GSM1149150_F_Sm9.txt:gProcessedSignal(normalized)', 'GSM1149151_F_Sm10.txt:gProcessedSignal(normalized)', 'GSM1149152_F_Sm11.txt:gProcessedSignal(normalized)', 'GSM1149153_F_Sm12.txt:gProcessedSignal(normalized)', 'GeneSymbol', 'EntrezGeneID', 'Go']),\n",
       "       list(['GE_BrightCorner', '17.28856', '18.103434', '18.28011', '17.883734', '17.879555', '17.340961', '16.22621', '16.203045', '15.940904', '15.344158', '15.561852', '15.7260065', '17.872643', '17.562452', '17.520668', '17.713581', '16.097628', '17.629744', '15.9975395', '15.357677', '15.278876', '15.55419', '16.08017', '15.717903', '17.114092', '18.50377', '18.17597', '17.489912', '17.856312', '15.370236', '16.424934', '16.146841', '16.100832', '15.594046', '15.925521', '16.011198', '17.071423', '17.25641', '18.231401', '17.65576', '17.465162', '16.039999', '15.783204', '14.843888', '15.553449', '15.912829', '15.604271', '16.120403']),\n",
       "       list(['DarkCorner', '2.172766', '0.07592531', '0.23240189', '0.052573193', '0.48329976', '0.240482', '0.3276757', '0.041980423', '0.015175113', '0.015648145', '0.049191806', '0.035696696', '0.16665179', '0.14696078', '0.14613934', '0.22931904', '0.4890443', '0.1652614', '0.41695973', '0.19977763', '0.16042788', '0.4088095', '0.38217583', '0.30131269', '0.3749905', '0.045648694', '0.18985608', '0.05037429', '0.24545972', '0.046813935', '0.061432008', '0.021206543', '0.07833017', '0.022536801', '0.08378477', '0.05800263', '0.08932957', '0.08245834', '0.02835295', '0.36213392', '0.22789441', '0.23266304', '0.023183107', '0.10434728', '0.05578519', '0.14153513', '0.11346541', '0.592137']),\n",
       "       ...,\n",
       "       list(['A_23_P5757', '9.898471', '10.378258', '10.279259', '10.104904', '10.506216', '10.135717', '12.040487', '11.578827', '11.465943', '11.674401', '11.5421295', '11.618438', '9.907899', '10.044615', '10.7259035', '11.016522', '9.226861', '10.479547', '11.345399', '11.197306', '11.321693', '11.512236', '11.671425', '11.474195', '9.788711', '9.896174', '9.897948', '9.84785', '10.239387', '11.646043', '11.687834', '11.924864', '11.73133', '11.535917', '11.690606', '12.147427', '10.111134', '10.13098', '10.564277', '10.851667', '9.969618', '11.670427', '11.496683', '11.132303', '11.004814', '11.290635', '11.079154', '12.066488', 'TPRKB', '51002', 'GO:0005515|GO:0005737|GO:0019901|GO:0005634|GO:0008033|GO:0005829']),\n",
       "       list(['A_24_P926284', '1.449114', '1.4135269', '0', '0', '0.852284', '0', '4.3205047', '2.0004532', '0', '0', '0', '0', '1.2218901', '2.0891554', '0', '2.5799196', '2.2798789', '3.0434613', '3.708173', '1.6022373', '4.083905', '2.5755918', '2.3180408', '0', '0', '0', '0', '0.23016001', '2.5142298', '2.3330948', '1.6721916', '0', '0', '0', '0', '0', '0', '0', '0.30073756', '3.161099', '2.2241008', '0', '0', '0.005803732', '0.6336795', '2.0026643', '0', '0', 'OFCC1', '266553', 'GO:0005515']),\n",
       "       list(['A_23_P164289', '8.598227', '9.297244', '8.511383', '8.231822', '8.153778', '9.379469', '9.446124', '9.124106', '8.921523', '9.754077', '8.708457', '10.372408', '8.341224', '7.737469', '11.14039', '9.809249', '7.7860227', '8.163117', '9.654938', '8.01312', '8.614119', '8.873641', '9.933631', '8.829631', '7.6932826', '7.4449134', '9.170077', '9.009254', '8.851099', '9.787004', '9.3454685', '9.19047', '9.022361', '9.673501', '9.824893', '10.009399', '9.055216', '7.9713516', '9.312469', '8.777167', '7.9234195', '9.723723', '9.658475', '8.377173', '8.694677', '9.728577', '8.106234', '9.723103', 'ELP5', '23587', 'GO:0005515|GO:0033588|GO:0006355|GO:0005737|GO:0030335|GO:0006325|GO:0005634|GO:0006351'])],\n",
       "      dtype=object)"
      ]
     },
     "execution_count": 4,
     "metadata": {},
     "output_type": "execute_result"
    }
   ],
   "source": [
    "data"
   ]
  },
  {
   "cell_type": "code",
   "execution_count": 5,
   "id": "d53ff557",
   "metadata": {},
   "outputs": [],
   "source": [
    "for i in range(1, len(data)):\n",
    "    for j in range(len(data[1])):\n",
    "        if( j != 0 ):\n",
    "            data[i][j] = float(data[i][j])"
   ]
  },
  {
   "cell_type": "code",
   "execution_count": 6,
   "id": "a9068f77",
   "metadata": {},
   "outputs": [
    {
     "data": {
      "text/plain": [
       "array([list(['ProbeName', 'GSM1149106_M_Ns3.txt:gProcessedSignal(normalized)', 'GSM1149107_M_Ns4.txt:gProcessedSignal(normalized)', 'GSM1149108_M_Ns5.txt:gProcessedSignal(normalized)', 'GSM1149109_M_Ns6.txt:gProcessedSignal(normalized)', 'GSM1149110_M_Ns7.txt:gProcessedSignal(normalized)', 'GSM1149111_M_Ns8.txt:gProcessedSignal(normalized)', 'GSM1149112_M_Ns9.txt:gProcessedSignal(normalized)', 'GSM1149113_M_Ns10.txt:gProcessedSignal(normalized)', 'GSM1149114_M_Ns11.txt:gProcessedSignal(normalized)', 'GSM1149115_M_Ns12.txt:gProcessedSignal(normalized)', 'GSM1149116_M_Ns13.txt:gProcessedSignal(normalized)', 'GSM1149117_M_Ns14.txt:gProcessedSignal(normalized)', 'GSM1149118_M_Sm1.txt:gProcessedSignal(normalized)', 'GSM1149119_M_Sm2.txt:gProcessedSignal(normalized)', 'GSM1149120_M_Sm3.txt:gProcessedSignal(normalized)', 'GSM1149121_M_Sm4.txt:gProcessedSignal(normalized)', 'GSM1149122_M_Sm5.txt:gProcessedSignal(normalized)', 'GSM1149123_M_Sm6.txt:gProcessedSignal(normalized)', 'GSM1149124_M_Sm8.txt:gProcessedSignal(normalized)', 'GSM1149125_M_Sm9.txt:gProcessedSignal(normalized)', 'GSM1149126_M_Sm10.txt:gProcessedSignal(normalized)', 'GSM1149127_M_SM11.txt:gProcessedSignal(normalized)', 'GSM1149128_M_Sm12.txt:gProcessedSignal(normalized)', 'GSM1149129_M_Sm13.txt:gProcessedSignal(normalized)', 'GSM1149130_F_Ns1.txt:gProcessedSignal(normalized)', 'GSM1149131_F_Ns3.txt:gProcessedSignal(normalized)', 'GSM1149132_F_Ns5.txt:gProcessedSignal(normalized)', 'GSM1149133_F_Ns6.txt:gProcessedSignal(normalized)', 'GSM1149134_F_Ns7.txt:gProcessedSignal(normalized)', 'GSM1149135_F_Ns8.txt:gProcessedSignal(normalized)', 'GSM1149136_F_Ns9.txt:gProcessedSignal(normalized)', 'GSM1149137_F_Ns10.txt:gProcessedSignal(normalized)', 'GSM1149138_F_Ns11.txt:gProcessedSignal(normalized)', 'GSM1149139_F_Ns12.txt:gProcessedSignal(normalized)', 'GSM1149140_F_Ns13.txt:gProcessedSignal(normalized)', 'GSM1149141_F_Ns14.txt:gProcessedSignal(normalized)', 'GSM1149142_F_Sm1.txt:gProcessedSignal(normalized)', 'GSM1149143_F_Sm2.txt:gProcessedSignal(normalized)', 'GSM1149144_F_Sm3.txt:gProcessedSignal(normalized)', 'GSM1149145_F_Sm4.txt:gProcessedSignal(normalized)', 'GSM1149146_F_Sm5.txt:gProcessedSignal(normalized)', 'GSM1149147_F_Sm6.txt:gProcessedSignal(normalized)', 'GSM1149148_F_Sm7.txt:gProcessedSignal(normalized)', 'GSM1149149_F_Sm8.txt:gProcessedSignal(normalized)', 'GSM1149150_F_Sm9.txt:gProcessedSignal(normalized)', 'GSM1149151_F_Sm10.txt:gProcessedSignal(normalized)', 'GSM1149152_F_Sm11.txt:gProcessedSignal(normalized)', 'GSM1149153_F_Sm12.txt:gProcessedSignal(normalized)', 'GeneSymbol', 'EntrezGeneID', 'Go']),\n",
       "       list(['GE_BrightCorner', 17.28856, 18.103434, 18.28011, 17.883734, 17.879555, 17.340961, 16.22621, 16.203045, 15.940904, 15.344158, 15.561852, 15.7260065, 17.872643, 17.562452, 17.520668, 17.713581, 16.097628, 17.629744, 15.9975395, 15.357677, 15.278876, 15.55419, 16.08017, 15.717903, 17.114092, 18.50377, 18.17597, 17.489912, 17.856312, 15.370236, 16.424934, 16.146841, 16.100832, 15.594046, 15.925521, 16.011198, 17.071423, 17.25641, 18.231401, 17.65576, 17.465162, 16.039999, 15.783204, 14.843888, 15.553449, 15.912829, 15.604271, 16.120403]),\n",
       "       list(['DarkCorner', 2.172766, 0.07592531, 0.23240189, 0.052573193, 0.48329976, 0.240482, 0.3276757, 0.041980423, 0.015175113, 0.015648145, 0.049191806, 0.035696696, 0.16665179, 0.14696078, 0.14613934, 0.22931904, 0.4890443, 0.1652614, 0.41695973, 0.19977763, 0.16042788, 0.4088095, 0.38217583, 0.30131269, 0.3749905, 0.045648694, 0.18985608, 0.05037429, 0.24545972, 0.046813935, 0.061432008, 0.021206543, 0.07833017, 0.022536801, 0.08378477, 0.05800263, 0.08932957, 0.08245834, 0.02835295, 0.36213392, 0.22789441, 0.23266304, 0.023183107, 0.10434728, 0.05578519, 0.14153513, 0.11346541, 0.592137]),\n",
       "       ...,\n",
       "       list(['A_23_P5757', 9.898471, 10.378258, 10.279259, 10.104904, 10.506216, 10.135717, 12.040487, 11.578827, 11.465943, 11.674401, 11.5421295, 11.618438, 9.907899, 10.044615, 10.7259035, 11.016522, 9.226861, 10.479547, 11.345399, 11.197306, 11.321693, 11.512236, 11.671425, 11.474195, 9.788711, 9.896174, 9.897948, 9.84785, 10.239387, 11.646043, 11.687834, 11.924864, 11.73133, 11.535917, 11.690606, 12.147427, 10.111134, 10.13098, 10.564277, 10.851667, 9.969618, 11.670427, 11.496683, 11.132303, 11.004814, 11.290635, 11.079154, 12.066488, 'TPRKB', '51002', 'GO:0005515|GO:0005737|GO:0019901|GO:0005634|GO:0008033|GO:0005829']),\n",
       "       list(['A_24_P926284', 1.449114, 1.4135269, 0.0, 0.0, 0.852284, 0.0, 4.3205047, 2.0004532, 0.0, 0.0, 0.0, 0.0, 1.2218901, 2.0891554, 0.0, 2.5799196, 2.2798789, 3.0434613, 3.708173, 1.6022373, 4.083905, 2.5755918, 2.3180408, 0.0, 0.0, 0.0, 0.0, 0.23016001, 2.5142298, 2.3330948, 1.6721916, 0.0, 0.0, 0.0, 0.0, 0.0, 0.0, 0.0, 0.30073756, 3.161099, 2.2241008, 0.0, 0.0, 0.005803732, 0.6336795, 2.0026643, 0.0, 0.0, 'OFCC1', '266553', 'GO:0005515']),\n",
       "       list(['A_23_P164289', 8.598227, 9.297244, 8.511383, 8.231822, 8.153778, 9.379469, 9.446124, 9.124106, 8.921523, 9.754077, 8.708457, 10.372408, 8.341224, 7.737469, 11.14039, 9.809249, 7.7860227, 8.163117, 9.654938, 8.01312, 8.614119, 8.873641, 9.933631, 8.829631, 7.6932826, 7.4449134, 9.170077, 9.009254, 8.851099, 9.787004, 9.3454685, 9.19047, 9.022361, 9.673501, 9.824893, 10.009399, 9.055216, 7.9713516, 9.312469, 8.777167, 7.9234195, 9.723723, 9.658475, 8.377173, 8.694677, 9.728577, 8.106234, 9.723103, 'ELP5', '23587', 'GO:0005515|GO:0033588|GO:0006355|GO:0005737|GO:0030335|GO:0006325|GO:0005634|GO:0006351'])],\n",
       "      dtype=object)"
      ]
     },
     "execution_count": 6,
     "metadata": {},
     "output_type": "execute_result"
    }
   ],
   "source": [
    "data"
   ]
  },
  {
   "cell_type": "code",
   "execution_count": 242,
   "id": "ae7ad951",
   "metadata": {},
   "outputs": [],
   "source": [
    "temp_ = []\n",
    "for i in range(1, len(data)):\n",
    "    temp_.append(data[i][3])"
   ]
  },
  {
   "cell_type": "code",
   "execution_count": 243,
   "id": "b693dc31",
   "metadata": {},
   "outputs": [],
   "source": [
    "# range of smokers and Non smokers\n",
    "# range of Male Non smokers => (106 - 117)\n",
    "# range of Male smokers => (117 - 129)\n",
    "# range of Female Non smokers => (130 - 141)\n",
    "# range of Female smokers => (114 -  153)\n",
    "\n",
    "# non_smokers(Male)\n",
    "non_sm_male = [[0.0]*12 for _ in range(1, len(data))]\n",
    "for i in range(1, len(data)):\n",
    "    for k in range(1, 13):\n",
    "        non_sm_male[i-1][k-1] = data[i][k]"
   ]
  },
  {
   "cell_type": "code",
   "execution_count": 244,
   "id": "caf2ec1e",
   "metadata": {},
   "outputs": [],
   "source": [
    "# smokers(Male)\n",
    "sm_male = [[0.0]*12 for _ in range(1, len(data))]\n",
    "x = -1\n",
    "for i in range(1, len(data)):\n",
    "    x = x + 1\n",
    "    y = 0\n",
    "    for j in range(13, 25):\n",
    "        sm_male[x][y] = data[i][j]\n",
    "        y = y + 1"
   ]
  },
  {
   "cell_type": "code",
   "execution_count": 245,
   "id": "b67f90b4",
   "metadata": {},
   "outputs": [],
   "source": [
    "#non_smokers(Female)\n",
    "non_sm_female=[[0.0]*12 for _ in range(1,len(data))]\n",
    "x = -1\n",
    "for i in range(1,len(data)):\n",
    "    x = x + 1\n",
    "    y = 0\n",
    "    for j in range(25,37):\n",
    "        non_sm_female[x][y] = data[i][j]\n",
    "        y = y + 1"
   ]
  },
  {
   "cell_type": "code",
   "execution_count": 246,
   "id": "4e860c3d",
   "metadata": {},
   "outputs": [],
   "source": [
    "#smokers(Female)\n",
    "sm_female=[[0.0]*12 for p in range(1,len(data))]\n",
    "x = -1\n",
    "for i in range(1,len(data)):\n",
    "    x = x + 1\n",
    "    y = 0\n",
    "    for j in range(37,49):\n",
    "        sm_female[x][y] = data[i][j]\n",
    "        y = y + 1"
   ]
  },
  {
   "cell_type": "code",
   "execution_count": 247,
   "id": "f7a63d57",
   "metadata": {},
   "outputs": [],
   "source": [
    "male_data = np.hstack((non_sm_male, sm_male))\n",
    "female_data = np.hstack((non_sm_female, sm_female))\n",
    "all_male_female_data = np.hstack((male_data, female_data))"
   ]
  },
  {
   "cell_type": "code",
   "execution_count": 248,
   "id": "4ce9722e",
   "metadata": {},
   "outputs": [],
   "source": [
    "#matrix=[male_mean,female_mean,non_smoker_mean,smoker_mean]\n",
    "a_null=[[0]*4 for p in range(48)]\n",
    "for i in range(12):\n",
    "    a_null[i][0]=1\n",
    "    a_null[i][2]=1\n",
    "    \n",
    "for i in range(12,24):\n",
    "    a_null[i][0]=1\n",
    "    a_null[i][3]=1\n",
    "\n",
    "for i in range(24,36):\n",
    "    a_null[i][1]=1\n",
    "    a_null[i][2]=1\n",
    "    \n",
    "for i in range(36,48):\n",
    "    a_null[i][1]=1\n",
    "    a_null[i][3]=1\n",
    "    "
   ]
  },
  {
   "cell_type": "code",
   "execution_count": 249,
   "id": "64cf9251",
   "metadata": {},
   "outputs": [],
   "source": [
    "# Alternative Hypothesis\n",
    "# Matrix = [male_ns_mean,male_s_mean,female_ns_mean,female_s_mean]\n",
    "\n",
    "A = [[0]*4 for p in range(48)]\n",
    "for i in range(12):\n",
    "    A[i][0] = 1\n",
    "    \n",
    "for i in range(12,24):\n",
    "    A[i][1] = 1\n",
    "\n",
    "for i in range(24,36):\n",
    "    A[i][2] = 1\n",
    "    \n",
    "for i in range(36,48):\n",
    "    A[i][3] = 1"
   ]
  },
  {
   "cell_type": "code",
   "execution_count": 250,
   "id": "3abd8d79",
   "metadata": {},
   "outputs": [],
   "source": [
    "A = np.matrix(A)\n",
    "a_null = np.matrix(a_null)\n",
    "\n",
    "# Rank Calculation\n",
    "r1 = np.linalg.matrix_rank(a_null)\n",
    "r2 = np.linalg.matrix_rank(A)"
   ]
  },
  {
   "cell_type": "code",
   "execution_count": 251,
   "id": "2f010033",
   "metadata": {},
   "outputs": [],
   "source": [
    "# Calculation of F statistics\n",
    "N = 48\n",
    "I = np.identity(48)\n",
    "F = list()\n",
    "for i in range(len(all_male_female_data)):\n",
    "    H = all_male_female_data[i]\n",
    "    mat1 = np.matmul(H.T, I - (np.matmul(np.matmul(a_null, np.linalg.pinv(np.matmul(a_null.T, a_null))), a_null.T)))\n",
    "    mat2 = np.matmul(H.T, I - (np.matmul(np.matmul(A, np.linalg.pinv(np.matmul(A.T, A))), A.T)))\n",
    "    \n",
    "    if np.matmul(mat2, H) == 0:\n",
    "        f_stat = ((np.matmul(mat1, H)/0.0000000000000000001) - 1) * (N - r2)/(r2 - 1)\n",
    "        F.append(f_stat)\n",
    "    else:\n",
    "        f_stat = ((np.matmul(mat1, H)/np.matmul(mat2, H)) - 1) * (N - r2)/(r2 - r1)\n",
    "        F.append(f_stat)"
   ]
  },
  {
   "cell_type": "code",
   "execution_count": 252,
   "id": "f2a9af6f",
   "metadata": {},
   "outputs": [],
   "source": [
    "F = np.array(F)\n",
    "F = F.tolist()"
   ]
  },
  {
   "cell_type": "code",
   "execution_count": 253,
   "id": "90035cb6",
   "metadata": {},
   "outputs": [],
   "source": [
    "for i in range(len(F)):\n",
    "    F[i] = F[i][0]"
   ]
  },
  {
   "cell_type": "code",
   "execution_count": 254,
   "id": "18bb221c",
   "metadata": {},
   "outputs": [
    {
     "name": "stdout",
     "output_type": "stream",
     "text": [
      "p-Values Generated\n"
     ]
    }
   ],
   "source": [
    "### p-value calculation ###\n",
    "dfd = 48 - r2\n",
    "dfn = r2 - r1\n",
    "p_score = 1 - stats.f.cdf(F, dfn, dfd)\n",
    "print(\"p-Values Generated\")"
   ]
  },
  {
   "cell_type": "code",
   "execution_count": 255,
   "id": "02aabf84",
   "metadata": {},
   "outputs": [
    {
     "name": "stdout",
     "output_type": "stream",
     "text": [
      "P-Values Histogram Saved\n"
     ]
    },
    {
     "data": {
      "image/png": "[encoded data removed]",
      "text/plain": [
       "<Figure size 640x480 with 1 Axes>"
      ]
     },
     "metadata": {},
     "output_type": "display_data"
    }
   ],
   "source": [
    "### p-value histogram ###\n",
    "plt.hist(p_score, bins=15, rwidth=0.8, density=True, facecolor='orange')\n",
    "plt.savefig(\"histogram.png\")\n",
    "print(\"P-Values Histogram Saved\")"
   ]
  },
  {
   "cell_type": "code",
   "execution_count": 256,
   "id": "9d1e3112",
   "metadata": {},
   "outputs": [],
   "source": [
    "# Gene symbols\n",
    "g_symbol = []\n",
    "for i in range(len(data)):\n",
    "    if (len(data[i]) > 49):\n",
    "        g_symbol.append(data[i][49])\n",
    "    else:\n",
    "        g_symbol.append('NA')"
   ]
  },
  {
   "cell_type": "code",
   "execution_count": 257,
   "id": "5168f5a8",
   "metadata": {},
   "outputs": [],
   "source": [
    "index = 0\n",
    "g_dict = dict()\n",
    "g_list = list()\n",
    "g_symbol_lst = list()\n",
    "for i in range(len(p_score)):\n",
    "    if p_score[i] < 0.05:\n",
    "        index = index + 1\n",
    "        g_dict[i] = [data[i][0], p_score[i][0]]\n",
    "        g_list.append(data[i][0])\n",
    "        if g_symbol[i] != 'NA':\n",
    "            g_symbol_lst.append(g_symbol[i])"
   ]
  },
  {
   "cell_type": "code",
   "execution_count": 258,
   "id": "07600f53",
   "metadata": {},
   "outputs": [
    {
     "name": "stdout",
     "output_type": "stream",
     "text": [
      "Genes symbols file saved with name genes_symbols_list.txt\n"
     ]
    }
   ],
   "source": [
    "# save genes symbol list \n",
    "with open('genes_symbols_list.txt', 'w') as g_file:\n",
    "    for line in g_symbol_lst:\n",
    "        g_file.write(\"\".join(line) + \"\\n\")\n",
    "print(\"Genes symbols file saved with name genes_symbols_list.txt\")"
   ]
  },
  {
   "cell_type": "code",
   "execution_count": 259,
   "id": "14ea820b",
   "metadata": {},
   "outputs": [
    {
     "name": "stdout",
     "output_type": "stream",
     "text": [
      "Genes probe list saved with name genes_probe_list.txt\n"
     ]
    }
   ],
   "source": [
    "# save genes probe list\n",
    "with open('genes_porbe_list.txt', 'w') as g_file:\n",
    "    for line in g_list:\n",
    "        g_file.write(\"\".join(line) + \"\\n\")\n",
    "print(\"Genes probe list saved with name genes_probe_list.txt\")"
   ]
  },
  {
   "cell_type": "code",
   "execution_count": 260,
   "id": "526208e0",
   "metadata": {},
   "outputs": [],
   "source": [
    "# false discovery rate\n",
    "def FDR(p_score):\n",
    "    q = 0.05\n",
    "    n0 = 811 * 0.2\n",
    "    fdr = list()\n",
    "    for i in range(len(p_score)):\n",
    "        fdr.append(p_score[i][0])\n",
    "    fdr = np.sort(fdr)\n",
    "    c = 0\n",
    "    for i in range(0, len(fdr)):\n",
    "        if n0 * fdr[i]/(i+1) <= q:\n",
    "            c = c + 1\n",
    "    return fdr"
   ]
  },
  {
   "cell_type": "code",
   "execution_count": 261,
   "id": "8ddd784b",
   "metadata": {},
   "outputs": [
    {
     "data": {
      "text/plain": [
       "array([1.10554044e-04, 1.31050111e-04, 3.01869021e-04, ...,\n",
       "       1.00000000e+00, 1.00000000e+00, 1.00000000e+00])"
      ]
     },
     "execution_count": 261,
     "metadata": {},
     "output_type": "execute_result"
    }
   ],
   "source": [
    "FDR(p_score)"
   ]
  },
  {
   "cell_type": "code",
   "execution_count": 262,
   "id": "32bca8db",
   "metadata": {},
   "outputs": [],
   "source": [
    "# Intersect with the following gene lists: Xenobiotic metabolism, Free Radical Response, DNA Repair, Natural Killer Cell Cytotoxicity.\n",
    "##### Find Intersection (File 1) #####\n",
    "def genes_and_Xenobiotic(g_symbol_lst):\n",
    "    with open('../data/XenobioticMetabolism1.txt') as Xenobiotic_file:\n",
    "        next(Xenobiotic_file)\n",
    "        next(Xenobiotic_file)\n",
    "        Xenobiotic_data_file = [list(map(str, line.strip().split('\\t'))) for line in Xenobiotic_file]\n",
    "    check = list()\n",
    "    for i in range(len(Xenobiotic_data_file)):\n",
    "        check.append(Xenobiotic_data_file[i][0])\n",
    "\n",
    "    gsIntxs = list()\n",
    "    for gs in g_symbol_lst:\n",
    "        for xs in check:\n",
    "            if gs == xs:\n",
    "                gsIntxs.append(gs)\n",
    "    print(\"Genes Symbol Intersection with Xenobiotic \",gsIntxs)\n",
    "    print(\"Numbers of Genes that are intersecting with Xenobiotic Metabolism: \", len(gsIntxs))\n",
    "    return gsIntxs"
   ]
  },
  {
   "cell_type": "code",
   "execution_count": 263,
   "id": "c9bc7de5",
   "metadata": {},
   "outputs": [
    {
     "name": "stdout",
     "output_type": "stream",
     "text": [
      "Genes Symbol Intersection with Xenobiotic  ['CYB5R3', 'AOC1', 'SULT1A1', 'GRIN1', 'AS3MT']\n",
      "Numbers of Genes that are intersecting with Xenobiotic Metabolism:  5\n"
     ]
    }
   ],
   "source": [
    "gxs = genes_and_Xenobiotic(g_symbol_lst)"
   ]
  },
  {
   "cell_type": "code",
   "execution_count": 264,
   "id": "4d3e3176",
   "metadata": {},
   "outputs": [
    {
     "data": {
      "text/plain": [
       "['CYB5R3', 'AOC1', 'SULT1A1', 'GRIN1', 'AS3MT']"
      ]
     },
     "execution_count": 264,
     "metadata": {},
     "output_type": "execute_result"
    }
   ],
   "source": [
    "gxs"
   ]
  },
  {
   "cell_type": "code",
   "execution_count": 285,
   "id": "8d09dcd4",
   "metadata": {},
   "outputs": [],
   "source": [
    "##### Find Intersection (File 2) #####\n",
    "def genes_and_freeRadical(g_symbol_lst):\n",
    "    with open(\"../data/FreeRadicalResponse.txt\") as free_readical_file:\n",
    "        next(free_readical_file)\n",
    "        next(free_readical_file)\n",
    "        free_readical_data_file = [list(map(str, line.strip().split('\\t'))) for line in free_readical_file]\n",
    "\n",
    "    check = list()\n",
    "    for i in range(len(free_readical_data_file)):\n",
    "        check.append(free_readical_data_file[i][0])\n",
    "\n",
    "    gsIntFrs = list()\n",
    "    for gs in g_symbol_lst:\n",
    "        for frs in check:\n",
    "            if gs == frs:\n",
    "                gsIntFrs.append(gs)\n",
    "\n",
    "    print(\"Genes Symbol Intersection with Free Radical Response \", gsIntFrs)\n",
    "    print(\"Numbers of Genes that are intersecting with free Radical Response: \", len(gsIntFrs))\n",
    "    return gsIntFrs"
   ]
  },
  {
   "cell_type": "code",
   "execution_count": 286,
   "id": "91482b71",
   "metadata": {},
   "outputs": [
    {
     "name": "stdout",
     "output_type": "stream",
     "text": [
      "Genes Symbol Intersection with Free Radical Response  ['NFE2L2', 'DHFR', 'ADPRHL2']\n",
      "Numbers of Genes that are intersecting with free Radical Response:  3\n"
     ]
    }
   ],
   "source": [
    "gfrs = genes_and_freeRadical(g_symbol_lst)"
   ]
  },
  {
   "cell_type": "code",
   "execution_count": 284,
   "id": "e5409e40",
   "metadata": {},
   "outputs": [],
   "source": [
    "##### Find Intersection (File3) #####\n",
    "def genes_and_DNA(g_symbol_lst):\n",
    "    with open('../data/DNARepair1.txt') as DNA_file:\n",
    "        next(DNA_file)\n",
    "        next(DNA_file)\n",
    "        DNA_data_file = [list(map(str, line.strip().split(\"\\t\"))) for line in DNA_file]\n",
    "\n",
    "    check = list()\n",
    "    for i in range(len(DNA_data_file)):\n",
    "        check.append(DNA_data_file[i][0])\n",
    "\n",
    "    gsIntDnas = list()\n",
    "    for gs in g_symbol_lst:\n",
    "        for dnas in check:\n",
    "            if gs == dnas:\n",
    "                gsIntDnas.append(gs)\n",
    "\n",
    "    print(\"Genes Symbol Intersetion with DNA Repair:\", gsIntDnas)\n",
    "    print(\"Numbers of Genes that are intersecting with DNA Repair: \", len(gsIntDnas))\n",
    "    return gsIntDnas"
   ]
  },
  {
   "cell_type": "code",
   "execution_count": 268,
   "id": "1e3cb7c7",
   "metadata": {},
   "outputs": [
    {
     "name": "stdout",
     "output_type": "stream",
     "text": [
      "Genes Symbol Intersetion with DNA Repair: ['MSH3', 'HMGB1', 'RAD17']\n",
      "Numbers of Genes that are intersecting with DNA Repair:  3\n"
     ]
    }
   ],
   "source": [
    "gDnas = genes_and_DNA(g_symbol_lst)"
   ]
  },
  {
   "cell_type": "code",
   "execution_count": 282,
   "id": "95f3e9be",
   "metadata": {},
   "outputs": [],
   "source": [
    "##### Find Intersection (File 4) #####\n",
    "def genes_and_NKCell(g_symbol_lst):\n",
    "    with open('../data/NKCellCytotoxicity.txt') as NK_file:\n",
    "        next(NK_file)\n",
    "        next(NK_file)\n",
    "        NK_data_file = [list(map(str, line.strip().split(\"\\t\"))) for line in NK_file]\n",
    "\n",
    "    check = list()\n",
    "    for i in range(len(NK_data_file)):\n",
    "        check.append(NK_data_file[i][0])\n",
    "\n",
    "    gsIntNks = list()\n",
    "    for gs in g_symbol_lst:\n",
    "        for nks in check:\n",
    "            if gs == nks:\n",
    "                gsIntNks.append(gs)\n",
    "\n",
    "    print(\"Genes Symbol Intersetion with NKCellCytotoxicity : \", gsIntNks)\n",
    "    print(\"Numbers of Genes that are intersecting with NKCellCytotoxicity: \", len(gsIntNks))\n",
    "    return gsIntNks"
   ]
  },
  {
   "cell_type": "code",
   "execution_count": 283,
   "id": "c2bd8d4a",
   "metadata": {},
   "outputs": [
    {
     "name": "stdout",
     "output_type": "stream",
     "text": [
      "Genes Symbol Intersetion with NKCellCytotoxicity :  ['SHC2', 'PRKCB']\n",
      "Numbers of Genes that are intersecting with NKCellCytotoxicity:  2\n"
     ]
    }
   ],
   "source": [
    "gNks = genes_and_NKCell(g_symbol_lst)"
   ]
  },
  {
   "cell_type": "code",
   "execution_count": 271,
   "id": "9fcd4a5c",
   "metadata": {},
   "outputs": [],
   "source": [
    "# Report intersection counts for each list, split into four groups; \n",
    "# Going down in women smokers vs non-smokers/going up in women smokers vs non-smokers.\n",
    "\n",
    "##### Grouping Lists #####\n",
    "female_sm_up = []\n",
    "female_sm_down = []\n",
    "male_sm_up = []\n",
    "male_sm_down = []\n",
    "\n",
    "# Grouping (1)\n",
    "rows_values = list()\n",
    "t3mp_genes = list()\n",
    "for i in range(len(g_symbol)):\n",
    "    for j in range(len(gxs)):\n",
    "        if(g_symbol[i] == gxs[j]):\n",
    "            t3mp_genes.append(gxs[j])\n",
    "            rows_values.append(i)\n",
    "            break "
   ]
  },
  {
   "cell_type": "code",
   "execution_count": 272,
   "id": "a3d31e41",
   "metadata": {},
   "outputs": [
    {
     "name": "stdout",
     "output_type": "stream",
     "text": [
      "\n",
      "Grouping(Xenobiotic Metabolism): \n",
      "Probes-Names Genes-Symbols Male-NonSm Male-Sm Female-NonSm Female-Sm\n",
      "A_23_P123692 CYB5R3 8.238623008333333 8.0640275 7.932038808333334 8.117148741666666\n",
      "A_23_P213832 AOC1 9.699954916666668 9.525425833333333 9.276934666666667 9.587167083333332\n",
      "A_23_P16370 SULT1A1 1.1078251833333332 1.7331047216666668 2.1989470166666663 1.2664091558333332\n",
      "A_24_P932339 GRIN1 0.2671923166666667 0.9267140166666668 1.0594928 0.9510150666666667\n",
      "A_23_P50638 CYB5R3 12.49393708333333 12.215654999999998 12.410789833333334 12.47807075\n",
      "A_32_P102224 GRIN1 0.8926473441666668 2.19753698 1.7219506341666666 0.7549497045000001\n",
      "A_23_P125082 GRIN1 6.5677074750000015 6.674385125 6.529242991666667 6.805067125000001\n",
      "A_24_P751492 AS3MT 2.5741383916666662 4.1946882 3.8657874583333336 3.3792333333333335\n",
      "A_23_P142146 CYB5R3 15.830553083333333 15.755078416666665 15.916400666666666 15.986185166666667\n"
     ]
    }
   ],
   "source": [
    "print(\"\\nGrouping(Xenobiotic Metabolism): \")\n",
    "print(\"Probes-Names\",\"Genes-Symbols\",\"Male-NonSm\",\"Male-Sm\",\"Female-NonSm\",\"Female-Sm\")\n",
    "for i in rows_values:\n",
    "    male_nonsm=all_male_female_data[i,0:12]\n",
    "    male_sm=all_male_female_data[i,12:24]\n",
    "    female_nonsm=all_male_female_data[i,24:36]\n",
    "    female_sm=all_male_female_data[i,36:48]\n",
    "    male_nonsm_mean=np.mean(male_nonsm)\n",
    "    male_sm_mean=np.mean(male_sm)\n",
    "    female_nonsm_mean=np.mean(female_nonsm)\n",
    "    female_sm_mean=np.mean(female_sm)\n",
    "    if(male_nonsm_mean<male_sm_mean):\n",
    "        male_sm_up.append(g_symbol[i])\n",
    "    if(male_nonsm_mean>male_sm_mean):\n",
    "        male_sm_down.append(g_symbol[i])\n",
    "    if(female_nonsm_mean<female_sm_mean):\n",
    "        female_sm_up.append(g_symbol[i])\n",
    "    if(female_nonsm_mean>female_sm_mean):\n",
    "        female_sm_down.append(g_symbol[i])\n",
    "    \n",
    "    print(data[i+1][0],g_symbol[i],male_nonsm_mean,male_sm_mean,female_nonsm_mean,female_sm_mean)"
   ]
  },
  {
   "cell_type": "code",
   "execution_count": 273,
   "id": "849ba874",
   "metadata": {},
   "outputs": [],
   "source": [
    "#### Grouping (2) ####\n",
    "\n",
    "rows_values = []\n",
    "t3mp_genes = []\n",
    "for i in range(len(g_symbol)):\n",
    "    for j in range(len(gfrs)):\n",
    "        if(g_symbol[i] == gfrs[j]):\n",
    "            t3mp_genes.append(gfrs[j])\n",
    "            rows_values.append(i)\n",
    "            break "
   ]
  },
  {
   "cell_type": "code",
   "execution_count": 274,
   "id": "a733af09",
   "metadata": {},
   "outputs": [],
   "source": [
    "#### Grouping (3) ####\n",
    "\n",
    "rows_values = []\n",
    "t3mp_genes = []\n",
    "for i in range(len(g_symbol)):\n",
    "    for j in range(len(gDnas)):\n",
    "        if(g_symbol[i] == gDnas[j]):\n",
    "            t3mp_genes.append(gDnas[j])\n",
    "            rows_values.append(i)\n",
    "            break "
   ]
  },
  {
   "cell_type": "code",
   "execution_count": 275,
   "id": "de4b7298",
   "metadata": {},
   "outputs": [
    {
     "name": "stdout",
     "output_type": "stream",
     "text": [
      "\n",
      "Grouping for DNA Repair\n",
      "Probes-Names Genes-Symbols Male-NonSm Male-Sm Female-NonSm Female-Sm\n",
      "A_23_P123692 CYB5R3 8.238623008333333 15.755078416666665 15.916400666666666 15.986185166666667\n",
      "A_23_P213832 AOC1 9.699954916666668 15.755078416666665 15.916400666666666 15.986185166666667\n",
      "A_23_P16370 SULT1A1 1.1078251833333332 15.755078416666665 15.916400666666666 15.986185166666667\n",
      "A_24_P932339 GRIN1 0.2671923166666667 15.755078416666665 15.916400666666666 15.986185166666667\n",
      "A_23_P50638 CYB5R3 12.49393708333333 15.755078416666665 15.916400666666666 15.986185166666667\n",
      "A_32_P102224 GRIN1 0.8926473441666668 15.755078416666665 15.916400666666666 15.986185166666667\n",
      "A_23_P125082 GRIN1 6.5677074750000015 15.755078416666665 15.916400666666666 15.986185166666667\n",
      "A_24_P751492 AS3MT 2.5741383916666662 15.755078416666665 15.916400666666666 15.986185166666667\n",
      "A_23_P142146 CYB5R3 15.830553083333333 15.755078416666665 15.916400666666666 15.986185166666667\n",
      "A_32_P64324 NFE2L2 8.428780408333333 15.755078416666665 15.916400666666666 15.986185166666667\n",
      "A_23_P374104 DHFR 3.581614475 15.755078416666665 15.916400666666666 15.986185166666667\n",
      "A_24_P701030 DHFR 0.28701475833333334 15.755078416666665 15.916400666666666 15.986185166666667\n",
      "A_24_P344251 DHFR 10.571512875000002 15.755078416666665 15.916400666666666 15.986185166666667\n",
      "A_24_P912490 DHFR 0.0 15.755078416666665 15.916400666666666 15.986185166666667\n",
      "A_24_P718354 ADPRHL2 0.11467835833333333 15.755078416666665 15.916400666666666 15.986185166666667\n",
      "A_23_P113952 DHFR 0.05679681416666666 15.755078416666665 15.916400666666666 15.986185166666667\n"
     ]
    }
   ],
   "source": [
    "print(\"\\nGrouping for DNA Repair\")\n",
    "print(\"Probes-Names\",\"Genes-Symbols\",\"Male-NonSm\",\"Male-Sm\",\"Female-NonSm\",\"Female-Sm\")\n",
    "for i in rows_values:\n",
    "    male_nonsm=all_male_female_data[i,0:12]\n",
    "    male_s=all_male_female_data[i,12:24]\n",
    "    female_ns=all_male_female_data[i,24:36]\n",
    "    female_s=all_male_female_data[i,36:48]\n",
    "    male_nonsm_mean=np.mean(male_nonsm)\n",
    "    male_sm_mean=np.mean(male_sm)\n",
    "    female_nonsm_mean=np.mean(female_nonsm)\n",
    "    female_sm_mean=np.mean(female_sm)\n",
    "    if(male_nonsm_mean<male_sm_mean):\n",
    "        male_sm_up.append(g_symbol[i])\n",
    "    if(male_nonsm_mean>male_sm_mean):\n",
    "        male_sm_down.append(g_symbol[i])\n",
    "    if(female_nonsm_mean<female_sm_mean):\n",
    "        female_sm_up.append(g_symbol[i])\n",
    "    if(female_nonsm_mean>female_sm_mean):\n",
    "        female_sm_down.append(g_symbol[i])\n",
    "    print(data[i+1][0],g_symbol[i],male_nonsm_mean,male_sm_mean,female_nonsm_mean,female_sm_mean)"
   ]
  },
  {
   "cell_type": "code",
   "execution_count": 276,
   "id": "8adaeb77",
   "metadata": {},
   "outputs": [
    {
     "name": "stdout",
     "output_type": "stream",
     "text": [
      "SHC2\n",
      "PRKCB\n",
      "PRKCB\n",
      "PRKCB\n"
     ]
    }
   ],
   "source": [
    "#### Grouping (4) \n",
    "\n",
    "rows_values = []\n",
    "t3mp_genes = []\n",
    "for i in range(len(g_symbol)):\n",
    "    for j in range(len(gNks)):\n",
    "        if(g_symbol[i]==gNks[j]):\n",
    "            print(gNks[j])\n",
    "            t3mp_genes.append(gNks[j])\n",
    "            rows_values.append(i)\n",
    "            break "
   ]
  },
  {
   "cell_type": "code",
   "execution_count": 277,
   "id": "b8522162",
   "metadata": {},
   "outputs": [
    {
     "name": "stdout",
     "output_type": "stream",
     "text": [
      "\n",
      "Grouping for Natural Killer Cell\n",
      "Probes-Names Genes-Symbols Male-NonSm Male-Sm Female-NonSm Female-Sm\n",
      "A_23_P123692 CYB5R3 8.238623008333333 8.0640275 7.932038808333334 8.117148741666666\n",
      "A_23_P213832 AOC1 9.699954916666668 9.525425833333333 9.276934666666667 9.587167083333332\n",
      "A_23_P16370 SULT1A1 1.1078251833333332 1.7331047216666668 2.1989470166666663 1.2664091558333332\n",
      "A_24_P932339 GRIN1 0.2671923166666667 0.9267140166666668 1.0594928 0.9510150666666667\n",
      "A_23_P50638 CYB5R3 12.49393708333333 12.215654999999998 12.410789833333334 12.47807075\n",
      "A_32_P102224 GRIN1 0.8926473441666668 2.19753698 1.7219506341666666 0.7549497045000001\n",
      "A_23_P125082 GRIN1 6.5677074750000015 6.674385125 6.529242991666667 6.805067125000001\n",
      "A_24_P751492 AS3MT 2.5741383916666662 4.1946882 3.8657874583333336 3.3792333333333335\n",
      "A_23_P142146 CYB5R3 15.830553083333333 15.755078416666665 15.916400666666666 15.986185166666667\n",
      "A_32_P64324 NFE2L2 8.428780408333333 8.130662733333335 8.276304666666666 8.385044958333333\n",
      "A_23_P374104 DHFR 3.581614475 4.054618125 3.2306139083333334 4.081961933333334\n",
      "A_24_P701030 DHFR 0.28701475833333334 1.0034416458333333 0.4503789841666667 0.510094725\n",
      "A_24_P344251 DHFR 10.571512875000002 10.325879708333334 10.146499125 10.426087291666667\n",
      "A_24_P912490 DHFR 0.0 0.9737794971666668 1.199244825 0.09953285\n",
      "A_24_P718354 ADPRHL2 0.11467835833333333 2.0276071 1.1598129216666668 1.0114289\n",
      "A_23_P113952 DHFR 0.05679681416666666 0.5806835416666667 0.0 1.1741590083333333\n"
     ]
    }
   ],
   "source": [
    "print(\"\\nGrouping for Natural Killer Cell\")\n",
    "print(\"Probes-Names\",\"Genes-Symbols\",\"Male-NonSm\",\"Male-Sm\",\"Female-NonSm\",\"Female-Sm\")\n",
    "for i in rows_values:\n",
    "    male_nonsm = all_male_female_data[i,0:12]\n",
    "    male_sm = all_male_female_data[i,12:24]\n",
    "    female_nonsm = all_male_female_data[i,24:36]\n",
    "    female_sm = all_male_female_data[i,36:48]\n",
    "    male_nonsm_mean = np.mean(male_nonsm)\n",
    "    male_sm_mean = np.mean(male_sm)\n",
    "    female_nonsm_mean = np.mean(female_nonsm)\n",
    "    female_sm_mean = np.mean(female_sm)\n",
    "    if(male_nonsm_mean < male_sm_mean):\n",
    "        male_sm_up.append(g_symbol[i])\n",
    "    if(male_nonsm_mean > male_sm_mean):\n",
    "        male_sm_down.append(g_symbol[i])\n",
    "    if(female_nonsm_mean < female_sm_mean):\n",
    "        female_sm_up.append(g_symbol[i])\n",
    "    if(female_nonsm_mean > female_sm_mean):\n",
    "        female_sm_down.append(g_symbol[ i])\n",
    "    print(data[i+1][0],g_symbol[i],male_nonsm_mean,male_sm_mean,female_nonsm_mean,female_sm_mean)"
   ]
  },
  {
   "cell_type": "code",
   "execution_count": 278,
   "id": "e3f64679",
   "metadata": {},
   "outputs": [
    {
     "name": "stdout",
     "output_type": "stream",
     "text": [
      "\n",
      "****************** Final Grouping ***********************\n",
      "Female Smokers up genes {'ADPRHL2', 'CYB5R3', 'AOC1', 'DHFR', 'AS3MT', 'GRIN1', 'SULT1A1', 'NFE2L2'}\n",
      "Female Smokers Down genes {'ADPRHL2', 'DHFR', 'AS3MT', 'GRIN1', 'SULT1A1'}\n",
      "Male Smokers up genes {'ADPRHL2', 'CYB5R3', 'AOC1', 'DHFR', 'AS3MT', 'GRIN1', 'SULT1A1', 'NFE2L2'}\n",
      "Male Smokers down genes {'CYB5R3', 'DHFR', 'AOC1', 'NFE2L2'}\n"
     ]
    }
   ],
   "source": [
    "print(\"\\n****************** Final Grouping ***********************\")\n",
    "print(\"Female Smokers up genes\" ,set(female_sm_up))\n",
    "print(\"Female Smokers Down genes\", set(female_sm_down))\n",
    "print(\"Male Smokers up genes\" ,set(male_sm_up))\n",
    "print(\"Male Smokers down genes\" ,set(male_sm_down))"
   ]
  },
  {
   "cell_type": "code",
   "execution_count": null,
   "id": "100924e9",
   "metadata": {},
   "outputs": [],
   "source": []
  }
 ],
 "metadata": {
  "kernelspec": {
   "display_name": "Python 3 (ipykernel)",
   "language": "python",
   "name": "python3"
  },
  "language_info": {
   "codemirror_mode": {
    "name": "ipython",
    "version": 3
   },
   "file_extension": ".py",
   "mimetype": "text/x-python",
   "name": "python",
   "nbconvert_exporter": "python",
   "pygments_lexer": "ipython3",
   "version": "3.9.13"
  }
 },
 "nbformat": 4,
 "nbformat_minor": 5
}
